{
 "cells": [
  {
   "cell_type": "code",
   "execution_count": 2,
   "metadata": {},
   "outputs": [],
   "source": [
    "# Lab 3 \n",
    "# David Bell\n",
    "import numpy as np\n",
    "import sympy as sp\n",
    "import sympy.plotting as spp"
   ]
  },
  {
   "cell_type": "code",
   "execution_count": 3,
   "metadata": {},
   "outputs": [
    {
     "name": "stdout",
     "output_type": "stream",
     "text": [
      "The limit as x-->0 is:  0\n"
     ]
    },
    {
     "data": {
      "text/plain": [
       "<Figure size 640x480 with 1 Axes>"
      ]
     },
     "metadata": {},
     "output_type": "display_data"
    },
    {
     "name": "stdout",
     "output_type": "stream",
     "text": [
      "\n",
      "This ilistates the Squeeze therom\n"
     ]
    }
   ],
   "source": [
    "# Part 1\n",
    "x = sp.Symbol('x')\n",
    "\n",
    "              \n",
    "# defines function\n",
    "g = ((x**2)*sp.sin(1/x))\n",
    "f = (-x**2)\n",
    "h = (x**2)\n",
    "\n",
    "# A\n",
    "\n",
    "# finds limit\n",
    "L = sp.limit(g,x,0) \n",
    "print(\"The limit as x-->0 is: \",L)\n",
    "\n",
    "# B\n",
    "\n",
    "# graphs\n",
    "graphG = spp.plot_parametric(x,g,(x,-.5,.5),show = False)\n",
    "graphF = spp.plot_parametric(x,f,(x,-.5,.5),show = False)\n",
    "graphH = spp.plot_parametric(x,h,(x,-.5,.5),show = False)\n",
    "# adds graphs together\n",
    "graphG.extend(graphF)\n",
    "graphG.extend(graphH)\n",
    "# shows \n",
    "graphG.show()\n",
    "\n",
    "\n",
    "# C\n",
    "print(\"\\nThis ilistates the Squeeze therom\")\n",
    "\n"
   ]
  },
  {
   "cell_type": "code",
   "execution_count": 8,
   "metadata": {},
   "outputs": [
    {
     "data": {
      "image/png": "[encoded data removed]",
      "text/plain": [
       "<Figure size 432x288 with 1 Axes>"
      ]
     },
     "metadata": {
      "needs_background": "light"
     },
     "output_type": "display_data"
    },
    {
     "name": "stdout",
     "output_type": "stream",
     "text": [
      "The limit is aproximently 0.0785399518588739 0.801365555743409 0.791833062463411 0.782542534115162\n",
      "\n",
      "\n",
      "\n",
      "\n",
      "\n",
      " The x value at y=0.8 is : 0.0911416689 - 2.64697796e-23*I\n"
     ]
    }
   ],
   "source": [
    "#Part 2\n",
    "\n",
    "\n",
    "\n",
    "# defindes dictance\n",
    "d = sp.Symbol('d')\n",
    "# devined cvariable\n",
    "m = .1 #kg\n",
    "g = 9.81 #m/s^2\n",
    "pw = 1000 #kg/m^3\n",
    "C = 1 # constant\n",
    "\n",
    "# defines angles in degreed\n",
    "A = 10 * sp.pi / 180 # theta\n",
    "B = 10 * sp.pi / 180 # \n",
    "\n",
    "# creates Funciton\n",
    "v = sp.sqrt((16*m*g)/((sp.pi)*C*pw*d**2))/sp.sqrt(1-((8*m*sp.tan(B)**2)/(sp.pi*(d**3)*C*pw*sp.sin(A))))\n",
    "\n",
    "# A\n",
    "\n",
    "# graphs Function\n",
    "graph = spp.plot_parametric(d,v,(d,0,.1),ylim = [.7,.9])\n",
    "\n",
    "# B\n",
    "\n",
    "\n",
    "#use IVT\n",
    "a = 0\n",
    "b = 0\n",
    "#0.091+\n",
    "test1 = v.evalf(subs={d:0.9})\n",
    "test2 = v.evalf(subs={d:0.091})\n",
    "test3= v.evalf(subs={d:0.092})\n",
    "test4= v.evalf(subs={d:0.093})\n",
    "\n",
    "\n",
    "print(\"The limit is aproximently\",test1,test2,test3,test4)\n",
    "#0.092-\n",
    "\n",
    "# C\n",
    "#d = .8\n",
    "#V=v.evalf(subs={d:0.8})\n",
    "\n",
    "V = sp.solve(0.8-v,d)[1].evalf(9)\n",
    "print(\"\\n\\n\\n\\n\\n The x value at y=0.8 is :\",V)\n"
   ]
  },
  {
   "cell_type": "code",
   "execution_count": 4,
   "metadata": {},
   "outputs": [
    {
     "name": "stdout",
     "output_type": "stream",
     "text": [
      "the Lim x-->  10 0.567097875150313 and Aproximently 0.567097875150313\n",
      "the Lim x-->  50 0.487708612641025 and Aproximently 0.487708612641025\n",
      "the Lim x-->  100 0.479406412633974 and Aproximently 0.479406412633974\n",
      "the Lim x-->  -10 -0.405069910821652 and Aproximently -0.405069910821652\n",
      "the Lim x-->  -50 -0.456243540857733 and Aproximently -0.456243540857733\n",
      "the Lim x-->  -100 -0.463688169596795 and Aproximently -0.463688169596795\n",
      "\n",
      "\n",
      "The limit of V(x) as X--> oo is : sqrt(2)/3\n"
     ]
    },
    {
     "data": {
      "image/png": "[encoded data removed]",
      "text/plain": [
       "<Figure size 432x288 with 1 Axes>"
      ]
     },
     "metadata": {
      "needs_background": "light"
     },
     "output_type": "display_data"
    }
   ],
   "source": [
    "# Part 3\n",
    "Func = sp.sqrt(2*x**2+1)/(3*x-5)\n",
    "# A\n",
    "# uses a fro loop to iderste throug the numbers listed\n",
    "for i in (10, 50, 100, -10 , -50,-100):\n",
    "    print(\"the Lim x--> \",i,Func.evalf(subs={x:i}),\"and Aproximently\",Func.evalf(subs={x:i}))\n",
    "    # solve for x = i \n",
    "    \n",
    "# B\n",
    "# finds limit at infinity\n",
    "L = sp.limit(Func,x,np.Infinity)\n",
    "print(\"\\n\\nThe limit of V(x) as X--> oo is :\",L)\n",
    "\n",
    "# C\n",
    "Plot = spp.plot_parametric(x,Func,(x,-10,10),ylim = [-5,5],show = True)\n"
   ]
  }
 ],
 "metadata": {
  "kernelspec": {
   "display_name": "Python 3",
   "language": "python",
   "name": "python3"
  },
  "language_info": {
   "codemirror_mode": {
    "name": "ipython",
    "version": 3
   },
   "file_extension": ".py",
   "mimetype": "text/x-python",
   "name": "python",
   "nbconvert_exporter": "python",
   "pygments_lexer": "ipython3",
   "version": "3.7.3"
  }
 },
 "nbformat": 4,
 "nbformat_minor": 4
}

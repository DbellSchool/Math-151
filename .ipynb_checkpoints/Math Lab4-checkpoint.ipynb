{
 "cells": [
  {
   "cell_type": "code",
   "execution_count": 2,
   "metadata": {},
   "outputs": [
    {
     "name": "stdout",
     "output_type": "stream",
     "text": [
      "The dirivative is -10*x**2/(x**2 + 1)**2 + 5/(x**2 + 1)\n",
      "The slop at x= 2 is -3/5\n"
     ]
    }
   ],
   "source": [
    "# Part 1\n",
    "import sympy as sp\n",
    "import sympy.plotting as spp\n",
    "\n",
    "\n",
    "def reciprocal(n):# allows for eisly taking recirical\n",
    "    return 1.0 / n\n",
    "\n",
    "#A\n",
    "x = sp.Symbol('x')\n",
    "y = sp.Symbol('y')\n",
    "f = (5*x)/ (1+x**2)\n",
    "\n",
    "yVal =f.subs(x, 2)\n",
    "\n",
    "fdy= sp.diff(f,x)\n",
    "print (\"The dirivative is\",fdy)\n",
    "#B\n",
    "m1 =  fdy.subs(x, 2)\n",
    "print (\"The slop at x= 2 is\",m1)\n",
    "\n",
    "\n",
    "#C\n",
    "#opRecip = -1*reciprocal(m1)\n",
    "#print(m1,opRecip)\n",
    "#ftan = m1*(x-2) + yVal\n",
    "#fperp = opRecip*(x-2) + yVal\n",
    "#g = sp.plot((f,(x,0,4)),(fperp,(x,1,3)),(ftan,(x,1,3)))\n",
    "\n"
   ]
  },
  {
   "cell_type": "code",
   "execution_count": 4,
   "metadata": {},
   "outputs": [
    {
     "name": "stdout",
     "output_type": "stream",
     "text": [
      "At time  2.68817204301075 s The ball is at the highest Point of 14.4408602150538 ft\n",
      "The rock will hit the ground at t = 5.47455021932257 s\n"
     ]
    }
   ],
   "source": [
    "#Part 2\n",
    "\n",
    "t = sp.Symbol('t')\n",
    "s = 1+10*t-1.86*t**2\n",
    "v = sp.diff(s,t)\n",
    "# A\n",
    "V  = sp.solve(v,t) # solves for v(t)\n",
    "yV = s.subs(t, V[0])\n",
    "# part B\n",
    "print(\"At time \",V[0], \"s The ball is at the highest Point of\",yV,'ft')\n",
    "\n",
    "# part C\n",
    "posZero  = sp.solve(s,t) # solves for v(t)\n",
    "print(\"The rock will hit the ground at t =\",posZero[1],\"s\")\n"
   ]
  },
  {
   "cell_type": "code",
   "execution_count": 3,
   "metadata": {},
   "outputs": [
    {
     "name": "stdout",
     "output_type": "stream",
     "text": [
      "[(2, 3/2)]\n",
      "4.00000000000000\n",
      "2*x 3.0*x - 2\n"
     ]
    },
    {
     "data": {
      "text/plain": [
       "<Figure size 640x480 with 1 Axes>"
      ]
     },
     "metadata": {},
     "output_type": "display_data"
    },
    {
     "data": {
      "text/plain": [
       "<sympy.plotting.plot.Plot at 0x2d03cef61d0>"
      ]
     },
     "execution_count": 3,
     "metadata": {},
     "output_type": "execute_result"
    }
   ],
   "source": [
    "#Part 3\n",
    "# a\n",
    "a = sp.Symbol('a')\n",
    "F = x**2\n",
    "G = a*x**2-2*x+2\n",
    "\n",
    "FPrime = sp.diff(F,x)\n",
    "GPrime = sp.diff(G,x)\n",
    "\n",
    "ans = sp.solve([FPrime-GPrime,F-G],x,a)\n",
    "print(ans) ## a = 3/2 # x = 2\n",
    "\n",
    "\n",
    "#B\n",
    "\n",
    "F = x**2\n",
    "G = (3/2)*x**2-2*x+2 # pluged in a val from part a\n",
    "\n",
    "FPrime = sp.diff(F,x)\n",
    "GPrime = sp.diff(G,x)\n",
    "\n",
    "# slope equals x @ 2\n",
    "tan_slope = GPrime.subs(x, 2)\n",
    "yval = F.subs(x,2)\n",
    "\n",
    "print(tan_slope)\n",
    "print(FPrime,GPrime)\n",
    "\n",
    "\n",
    "#tanSlope = -1*reciprocal(slope)\n",
    "\n",
    "tanLine = tan_slope*(x-(2))+yval\n",
    "\n",
    "#b) Find the common tangent point and the equation of the tangent line for\n",
    "\n",
    "#c) Plot f, g, and the tangent line in the interval [1, 3].\n",
    "sp.plot((F,(x,1,3)),(G,(x,1,3)),(tanLine,(x,1,3)))"
   ]
  },
  {
   "cell_type": "code",
   "execution_count": 5,
   "metadata": {},
   "outputs": [
    {
     "name": "stdout",
     "output_type": "stream",
     "text": [
      "-x*sin(x) + 2*cos(x)\n",
      "x*sin(x) - 4*cos(x)\n",
      "-x*sin(x) + 6*cos(x)\n",
      "x*sin(x) - 8*cos(x)\n",
      "The 2nd dirivative *2n is : (-1)^n * (-xsin(x) + 2ncos(x)) \n"
     ]
    }
   ],
   "source": [
    "#Part 4\n",
    "Fsin = x*sp.sin(x)\n",
    "fTemp = Fsin\n",
    "\n",
    "# part A\n",
    "for i in range(8):\n",
    "    fTemp = sp.diff(fTemp,x)\n",
    "    if (i == 1 or i==3 or i==5 or i==7):\n",
    "        print(fTemp)\n",
    "   \n",
    "#b \n",
    "print(\"The 2nd dirivative *2n is : (-1)^n * (-xsin(x) + 2ncos(x)) \")"
   ]
  }
 ],
 "metadata": {
  "kernelspec": {
   "display_name": "Python 3",
   "language": "python",
   "name": "python3"
  },
  "language_info": {
   "codemirror_mode": {
    "name": "ipython",
    "version": 3
   },
   "file_extension": ".py",
   "mimetype": "text/x-python",
   "name": "python",
   "nbconvert_exporter": "python",
   "pygments_lexer": "ipython3",
   "version": "3.7.3"
  }
 },
 "nbformat": 4,
 "nbformat_minor": 2
}

{
 "cells": [
  {
   "cell_type": "code",
   "execution_count": 20,
   "metadata": {},
   "outputs": [
    {
     "name": "stdout",
     "output_type": "stream",
     "text": [
      "[-3.00000000000000, -2.00000000000000]\n",
      "[-3.0 - 2.0*I, -3.0 + 2.0*I]\n",
      "0\n",
      "\n",
      "Since Y=Y1  cos(2x)+sin(2x) = e^-2ix\n"
     ]
    }
   ],
   "source": [
    "# David Bell\n",
    "#math 151-501\n",
    "import sympy as sp\n",
    "import sympy.plotting as spp\n",
    "from math import e\n",
    "\n",
    "x = sp.Symbol('x')\n",
    "#y = sp.Symbol('y')\n",
    "r = sp.Symbol('r')\n",
    "\n",
    "f = e**(r*x)\n",
    "\n",
    "\n",
    "#yVal =f.subs(x, 2)\n",
    "\n",
    "fdx  = sp.diff(f,x)\n",
    "fdx2 = sp.diff(fdx,x)\n",
    "# part A\n",
    "f_part_a = fdx2+5*fdx+6*f\n",
    "\n",
    "ans = sp.solve(f_part_a, r)\n",
    "print(ans)\n",
    "# part B\n",
    "f_part_b = fdx2+6*fdx+13*f\n",
    "ans1 = sp.solve(f_part_b, r)\n",
    "print(ans1)\n",
    "# part C\n",
    "\n",
    "y = e**(-3*x)*(sp.cos(2*x)+sp.sin(2*x))\n",
    "\n",
    "ydx  = sp.diff(y,x)\n",
    "ydx2 = sp.diff(ydx,x)\n",
    "\n",
    "y_part_b = ydx2+6*ydx+13*y\n",
    "print(sp.simplify(y_part_b))\n",
    "print(\"\\nSince Y=Y1  cos(2x)+sin(2x) = e^-2ix\")"
   ]
  },
  {
   "cell_type": "code",
   "execution_count": 14,
   "metadata": {},
   "outputs": [
    {
     "name": "stdout",
     "output_type": "stream",
     "text": [
      "\n"
     ]
    },
    {
     "data": {
      "image/png": "[encoded data removed]",
      "text/plain": [
       "<Figure size 432x288 with 1 Axes>"
      ]
     },
     "metadata": {
      "needs_background": "light"
     },
     "output_type": "display_data"
    },
    {
     "name": "stdout",
     "output_type": "stream",
     "text": [
      "x*(2*x**2 - 5)/(2*y*(y**2 - 2))\n",
      "[0, -sqrt(2), sqrt(2)]\n",
      "[0, -sqrt(5), sqrt(5)] [-2, -1, 1, 2] [-2, -1, 1, 2]\n"
     ]
    },
    {
     "data": {
      "image/png": "[encoded data removed]",
      "text/plain": [
       "<Figure size 432x288 with 1 Axes>"
      ]
     },
     "metadata": {
      "needs_background": "light"
     },
     "output_type": "display_data"
    },
    {
     "name": "stdout",
     "output_type": "stream",
     "text": [
      "One slope is 1.25000012500006\n",
      "The other slople is -1.25000012500006\n"
     ]
    }
   ],
   "source": [
    "# part 2\n",
    "from sympy import Eq\n",
    "\n",
    "print()\n",
    "# Part A\n",
    "y=sp.symbols('y')\n",
    "lhs=(y**2)*((y**2)-4)\n",
    "rhs=(x**2)*((x**2)-5)\n",
    "F = ((x**2)*((x**2)-5))-((y**2)*((y**2)-4))#creates an equation with variables x and y\n",
    "\n",
    "\n",
    "G1=sp.plot_implicit(F)#part A    plots the implicit equation\n",
    "#Part B\n",
    "devCurve=sp.idiff(lhs-rhs,y,x)#takes the implicit derivative of f, which yields the devil's curve\n",
    "\n",
    "print(devCurve)\n",
    "\n",
    "#Part C\n",
    "denominator=(2*y*(y**2 - 2))#finds the points where the denominator is zero\n",
    "tan=sp.solve(denominator,y)#finds the points where the denominator is zero\n",
    "print(tan)#prints the points at which their are tangents\n",
    "\n",
    "a1=lhs.subs({y:tan[0]})\n",
    "b1=lhs.subs({y:tan[1]})\n",
    "c1=lhs.subs({y:tan[2]})\n",
    "\n",
    "slope0 = sp.solve(rhs-a1,x)\n",
    "slope1=sp.solve(rhs-b1,x)\n",
    "slope2= sp.solve(rhs-c1,x)\n",
    "print(slope0,slope1,slope2)\n",
    "\n",
    "\n",
    "#part D\n",
    "\n",
    "a=sp.plot_implicit(Eq(x,slope0[0]),show=False)#the next lines are vertical lines that are tangent to the devil's curve\n",
    "b=sp.plot_implicit(Eq(x,slope0[1]),show= False)\n",
    "c=sp.plot_implicit(Eq(x,slope0[2]),show= False)\n",
    "\n",
    "d=sp.plot_implicit(Eq(x,slope1[0]),show= False)\n",
    "e=sp.plot_implicit(Eq(x,slope1[1]),show= False)\n",
    "f=sp.plot_implicit(Eq(x,slope1[2]),show= False)\n",
    "g=sp.plot_implicit(Eq(x,slope1[3]),show= False)\n",
    "\n",
    "\n",
    "G1.extend(a)\n",
    "G1.extend(b)\n",
    "G1.extend(c)\n",
    "G1.extend(d)\n",
    "G1.extend(e)\n",
    "G1.extend(f)\n",
    "G1.extend(g)\n",
    "\n",
    "G1.show()#part C plots the 3 tangent lines with the devil's curve\n",
    "\n",
    "#Part E\n",
    "slope1=devCurve.subs({x:.001,y:.001})#evaluates the slope at x=.001 and y=.001\n",
    "slope2=devCurve.subs({x:-.001,y:.001})#evaluates the slope at x=-.001 and y=.001\n",
    "print(\"One slope is\",slope1)\n",
    "print(\"The other slople is\",slope2)#part D"
   ]
  },
  {
   "cell_type": "code",
   "execution_count": 15,
   "metadata": {
    "scrolled": true
   },
   "outputs": [
    {
     "name": "stdout",
     "output_type": "stream",
     "text": [
      "2 at :  2/x\n",
      "3 at :  6/x\n",
      "4 at :  24/x\n",
      "5 at :  120/x\n",
      "6 at :  720/x\n",
      "7 at :  5040/x\n",
      "8 at :  40320/x\n",
      "\n",
      "The general equation is : n! /x \n"
     ]
    }
   ],
   "source": [
    "# part 3\n",
    "n = 0\n",
    "# Part A \n",
    "\n",
    "for n in range(2,9,1):\n",
    "    fx = x **n*sp.log(x)\n",
    "    fx = sp.diff(fx,x,n+1)\n",
    "    print(n,\"at : \",fx)\n",
    "    \n",
    "# part B\n",
    "print(\"\\nThe general equation is : n! /x \")"
   ]
  },
  {
   "cell_type": "code",
   "execution_count": 17,
   "metadata": {},
   "outputs": [
    {
     "name": "stdout",
     "output_type": "stream",
     "text": [
      "0.75*log(x) - 5*log(3*x + 2) + 0.5*log(x**2 + 1) \n",
      "\n",
      "x**(-0.25)*(x**2 + 1)**(-0.5)*(x**2*(3.0*x + 2.0) - 15*x*(x**2 + 1) + 0.75*(3*x + 2)*(x**2 + 1))/(3*x + 2)**6 \n",
      "\n",
      "\n",
      "x**(-0.25)*(x**2 + 1)**(-0.5)*(-15*x**1.0*(x**2 + 1)**1.0 + x**2.0*(3.0*x + 2.0) + (2.25*x + 1.5)*(x**2 + 1)**1.0)/(3*x + 2)**6 \n",
      "\n",
      "\n",
      "0\n"
     ]
    }
   ],
   "source": [
    "# Part 4 \n",
    "y2 = (x**(3/4))*((x**2+1)**(1/2) ) /  (3*x+2)**5\n",
    "logY = sp.log(y2)\n",
    "logY_expand =sp.expand_log(logY, force = True)\n",
    "logY_expand_dx= sp.diff(logY_expand,x)\n",
    "# part A\n",
    "\n",
    "print(logY_expand,\"\\n\")\n",
    "\n",
    "log_diff_y = logY_expand_dx * y2\n",
    "print(sp.simplify(log_diff_y),\"\\n\\n\")\n",
    "\n",
    "# Part B\n",
    "\n",
    "dif_y = sp.diff(y2,x)\n",
    "print(sp.simplify(dif_y),\"\\n\\n\")\n",
    "\n",
    "\n",
    "#PArt C\n",
    "print('0')\n"
   ]
  },
  {
   "cell_type": "code",
   "execution_count": null,
   "metadata": {},
   "outputs": [],
   "source": []
  }
 ],
 "metadata": {
  "kernelspec": {
   "display_name": "Python 3",
   "language": "python",
   "name": "python3"
  },
  "language_info": {
   "codemirror_mode": {
    "name": "ipython",
    "version": 3
   },
   "file_extension": ".py",
   "mimetype": "text/x-python",
   "name": "python",
   "nbconvert_exporter": "python",
   "pygments_lexer": "ipython3",
   "version": "3.7.3"
  }
 },
 "nbformat": 4,
 "nbformat_minor": 2
}

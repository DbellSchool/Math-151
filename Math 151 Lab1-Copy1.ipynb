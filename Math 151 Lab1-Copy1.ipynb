{
 "cells": [
  {
   "cell_type": "code",
   "execution_count": 1,
   "metadata": {},
   "outputs": [
    {
     "name": "stdout",
     "output_type": "stream",
     "text": [
      "the displacement is  [10  5]\n",
      "the work done is 190\n",
      "the dot is 35\n",
      "the dot is 35\n"
     ]
    }
   ],
   "source": [
    "# David Bell\n",
    "# Math 151- 501\n",
    "\n",
    "\n",
    "\n",
    "\n",
    "#math lab 1.1 \n",
    "# 1a\n",
    "import numpy as np\n",
    "# creates a Marix\n",
    "p = np.array([1,3])\n",
    "q = np.array([11,8])\n",
    "force = np.array([10,18])\n",
    "\n",
    "#subtracts  points to create vector\n",
    "newVec = q-p\n",
    "\n",
    "print(\"the displacement is \",newVec)\n",
    "\n",
    "# 1b\n",
    "# work = magnitude * displacement\n",
    "magTemp = newVec*force\n",
    "\n",
    "\n",
    "\n",
    "\n",
    "print(\"the work done is\",magTemp[0]+magTemp[1])\n",
    "print(\"the dot is\",p[1]*q[1]+p[0]*q[0])\n",
    "print(\"the dot is\",np.dot(p,q))\n",
    "#print(q*p)\n"
   ]
  },
  {
   "cell_type": "code",
   "execution_count": 82,
   "metadata": {},
   "outputs": [
    {
     "name": "stdout",
     "output_type": "stream",
     "text": [
      "T1 is  147.9163916092448\n",
      "T2 is  317.2077254628275\n"
     ]
    }
   ],
   "source": [
    "# lab 1.2\n",
    "\n",
    "Fg= 350 #newtons\n",
    "b = 65*np.pi/180 #have to convert form radians to degrees\n",
    "a = 25 *np.pi/180\n",
    "\n",
    "\n",
    "\n",
    "print(\"T1 is \", Fg/ (np.cos(a)*np.sin(b)/np.cos(b)+np.sin(a)))\n",
    "print(\"T2 is \", Fg/ (np.cos(b)*np.sin(a)/np.cos(a)+np.sin(b)))"
   ]
  },
  {
   "cell_type": "code",
   "execution_count": 83,
   "metadata": {},
   "outputs": [
    {
     "name": "stdout",
     "output_type": "stream",
     "text": [
      "[147.91639161 317.20772546]\n"
     ]
    }
   ],
   "source": [
    "Fg = 350 #newtons\n",
    "\n",
    "\n",
    "b = (65*np.pi/180) #have to convert form radians to degrees\n",
    "a= 25*np.pi/180\n",
    "\n",
    "Matrix1V1V2 = np.array([[(np.sin(a)),(np.sin(b))],[(np.cos(a)),((-1)*np.cos(b))]])\n",
    "#M= np.array([[2,1],[1,2]])\n",
    "#matrixVarXY = np.array([[x],[y]])\n",
    "MatrixInputVal = np.array([350,0])\n",
    "\n",
    "Matrix1Inverse = np.linalg.inv(Matrix1V1V2)\n",
    "print(np.dot(MatrixInputVal,Matrix1Inverse))\n"
   ]
  },
  {
   "cell_type": "code",
   "execution_count": 3,
   "metadata": {},
   "outputs": [
    {
     "name": "stdout",
     "output_type": "stream",
     "text": [
      "Part a\n",
      "a+b  : [6 2]\n",
      "a-b  : [2 4]\n",
      "4a+2b: [20 10]\n",
      "\n",
      "Part B\n",
      "angle between a & b is: 63.43494882292201 Degrees\n",
      "angle between a & b is: 1.1071487177940904 Rad\n",
      "\n",
      "Part c\n",
      "unit vector b-a is: [-0.4472136  -0.89442719]\n"
     ]
    }
   ],
   "source": [
    "#lab 1.3\n",
    "v1= np.array([4,3])\n",
    "v2= np.array([2,-1])\n",
    "\n",
    "#a\n",
    "print(\"Part a\")\n",
    "print(\"a+b  :\",v1+v2)\n",
    "print(\"a-b  :\",v1-v2)\n",
    "print(\"4a+2b:\",4*v1+2*v2)\n",
    "\n",
    "#b find Angle\n",
    "print(\"\\nPart B\")\n",
    "magv1 = np.sqrt(v1.dot(v1))\n",
    "magv2 = np.sqrt(v2.dot(v2))\n",
    "\n",
    "\n",
    "vectAngl = np.dot(v1,v2)/(magv1*magv2)\n",
    "#vectAngl * 180/np.pi\n",
    "print(\"angle between a & b is:\" ,np.arccos(vectAngl)*180/np.pi,\"Degrees\") # converts Radians to degrees\n",
    "print(\"angle between a & b is:\" ,np.arccos(vectAngl),\"Rad\")\n",
    "\n",
    "\n",
    "#c unit vector\n",
    "print(\"\\nPart c\")\n",
    "print(\"unit vector b-a is:\", (v2-v1)/np.sqrt(20))\n",
    "        \n"
   ]
  }
 ],
 "metadata": {
  "kernelspec": {
   "display_name": "Python 3",
   "language": "python",
   "name": "python3"
  },
  "language_info": {
   "codemirror_mode": {
    "name": "ipython",
    "version": 3
   },
   "file_extension": ".py",
   "mimetype": "text/x-python",
   "name": "python",
   "nbconvert_exporter": "python",
   "pygments_lexer": "ipython3",
   "version": "3.7.3"
  }
 },
 "nbformat": 4,
 "nbformat_minor": 2
}
